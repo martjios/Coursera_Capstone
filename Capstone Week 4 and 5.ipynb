{
 "cells": [
  {
   "cell_type": "markdown",
   "metadata": {},
   "source": [
    "# Locating an 'underground' art gallery in New York City\n",
    "### By J. Martin"
   ]
  },
  {
   "cell_type": "markdown",
   "metadata": {},
   "source": [
    "The principle goal of this exercise is to inform the placement of an art gallery in New York City. Art galleries are common, but in conversation with several artists who live in NYC, I have learned several facts. First, the art gallery community is principally concerned with *value*, which is to say about how much a painting might sell for in the future. This has two effects. First, it raises an incredible barrier of entry, since after all an artist who has already sold is more likely to sell (and to re-sell in the future). It also tends to prevent people who want art in their homes from seeking it, as the gallery world is focused on selling high-end art (which most families cannot afford).\n",
    "\n",
    "The goal, then, is to place a new art gallery focused on selling unknown artist's for cheaper prices. It would establish an upper end of price for each art piece, as well as not sell artists successful in other areas of the art businesses."
   ]
  },
  {
   "cell_type": "markdown",
   "metadata": {},
   "source": [
    "## Where to place such an art gallery"
   ]
  },
  {
   "cell_type": "markdown",
   "metadata": {},
   "source": [
    "Two criteria are important: location close to other entertainment/exercise/food. Incidental walkins are encouraged, i.e. people open to but not specifically searching for art. Second, distance away from other art galleries - since they attract a crowd that tends to look for other art."
   ]
  },
  {
   "cell_type": "markdown",
   "metadata": {},
   "source": [
    "## The data to be used\n",
    "The data will use the neighborhood data and a truncated body of the Foursquare data, i.e. excluding certain types of establishments (like churches, zoos, parks) which aren't associated with shopping or a \"night-life\" type entertainment we are focused on (even though \"night life\" is a bad describer. I've been to NYC on a weekend, they drink sun up to sun down). A complete listing will be described in the actual code notebook. \n",
    "\n",
    "Using these data, first a simple K-means testing will be done to establish the type and amount of entertainment. I will use K=10, to allow greater division among the groups.\n",
    "\n",
    "Using these means groups, the 3 \"best\" groups will be identified - i.e. a higher concentration of bars/restaurants. K means testing will then be repeated among these to identify the inclusion of other galleries. The \"loser\" of these will then be the best neighborhood to open the gallery - having a sufficiently high portion of other attracting businesses and being distant from those neighborhoods which would attract customers who might turn their nose up at \"cheap\" and \"undiscovered\" artists' work."
   ]
  },
  {
   "cell_type": "code",
   "execution_count": null,
   "metadata": {},
   "outputs": [],
   "source": []
  },
  {
   "cell_type": "code",
   "execution_count": null,
   "metadata": {},
   "outputs": [],
   "source": []
  }
 ],
 "metadata": {
  "kernelspec": {
   "display_name": "Python 3",
   "language": "python",
   "name": "python3"
  },
  "language_info": {
   "codemirror_mode": {
    "name": "ipython",
    "version": 3
   },
   "file_extension": ".py",
   "mimetype": "text/x-python",
   "name": "python",
   "nbconvert_exporter": "python",
   "pygments_lexer": "ipython3",
   "version": "3.6.8"
  }
 },
 "nbformat": 4,
 "nbformat_minor": 2
}
